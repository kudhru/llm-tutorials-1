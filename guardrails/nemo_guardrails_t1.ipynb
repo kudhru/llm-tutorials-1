{
 "cells": [
  {
   "cell_type": "code",
   "execution_count": 4,
   "id": "initial_id",
   "metadata": {
    "ExecuteTime": {
     "end_time": "2024-10-28T05:08:34.550457Z",
     "start_time": "2024-10-28T05:08:34.543246Z"
    },
    "collapsed": true
   },
   "outputs": [],
   "source": [
    "import os"
   ]
  },
  {
   "cell_type": "code",
   "execution_count": 5,
   "id": "f0aa6aacbbbe6788",
   "metadata": {
    "ExecuteTime": {
     "end_time": "2024-10-28T05:08:36.067144Z",
     "start_time": "2024-10-28T05:08:36.064355Z"
    }
   },
   "outputs": [],
   "source": [
    "import nest_asyncio\n",
    "\n",
    "nest_asyncio.apply()"
   ]
  },
  {
   "cell_type": "code",
   "execution_count": 26,
   "id": "fa1e405d84da482a",
   "metadata": {
    "ExecuteTime": {
     "end_time": "2024-10-28T05:16:22.831815Z",
     "start_time": "2024-10-28T05:16:22.827165Z"
    }
   },
   "outputs": [],
   "source": [
    "from nemoguardrails import RailsConfig\n",
    "\n",
    "config = RailsConfig.from_path(\"./nemo_guardrails_config/config_1\")"
   ]
  },
  {
   "cell_type": "code",
   "execution_count": 30,
   "id": "b515b85a20a8c6d3",
   "metadata": {
    "ExecuteTime": {
     "end_time": "2024-10-28T05:26:03.784676Z",
     "start_time": "2024-10-28T05:26:02.104653Z"
    }
   },
   "outputs": [
    {
     "name": "stdout",
     "output_type": "stream",
     "text": [
      "Hello World!\n",
      "How are you doing?\n"
     ]
    }
   ],
   "source": [
    "from nemoguardrails import LLMRails\n",
    "\n",
    "rails = LLMRails(config)\n",
    "\n",
    "response = rails.generate(messages=[{\n",
    "    \"role\": \"user\",\n",
    "    \"content\": \"Hi Hello!\"\n",
    "}])\n",
    "\n",
    "print(response['content'])"
   ]
  },
  {
   "cell_type": "code",
   "execution_count": 31,
   "id": "bae94545dc7291b",
   "metadata": {
    "ExecuteTime": {
     "end_time": "2024-10-28T05:26:05.397737Z",
     "start_time": "2024-10-28T05:26:05.395431Z"
    }
   },
   "outputs": [
    {
     "name": "stdout",
     "output_type": "stream",
     "text": [
      "user \"Hi Hello!\"\n",
      "  express greeting\n",
      "bot express greeting\n",
      "  \"Hello World!\"\n",
      "bot ask how are you\n",
      "  \"How are you doing?\"\n",
      "\n",
      "Summary: 1 LLM call(s) took 1.59 seconds and used 677 tokens.\n",
      "\n",
      "1. Task `generate_user_intent` took 1.59 seconds and used 677 tokens.\n",
      "\n",
      "\n",
      "[cyan]System[/]\n",
      "Below is a conversation between a helpful AI assistant and a user. The bot is designed to generate human-like text based on the input that it receives. The bot is talkative and provides lots of specific details. If the bot does not know the answer to a question, it truthfully says it does not know.\n",
      "[cyan]System[/]\n",
      "This is how a conversation between a user and the bot can go:\n",
      "[cyan]User[/]\n",
      "Hello there!\n",
      "[cyan]Bot[/]\n",
      "User intent: express greeting\n",
      "Bot intent: express greeting\n",
      "Bot message: \"Hello! How can I assist you today?\"\n",
      "[cyan]User[/]\n",
      "What can you do for me?\n",
      "[cyan]Bot[/]\n",
      "User intent: ask about capabilities\n",
      "Bot intent: respond about capabilities\n",
      "Bot message: \"As an AI assistant, I can help you with a wide range of tasks. This includes question answering on various topics, generating text for various purposes and providing suggestions based on your preferences.\"\n",
      "[cyan]User[/]\n",
      "Tell me a bit about the history of NVIDIA.\n",
      "[cyan]Bot[/]\n",
      "User intent: ask general question\n",
      "Bot intent: response for general question\n",
      "Bot message: \"NVIDIA is a technology company that specializes in designing and manufacturing graphics processing units (GPUs) and other computer hardware. The company was founded in 1993 by Jen-Hsun Huang, Chris Malachowsky, and Curtis Priem.\"\n",
      "[cyan]User[/]\n",
      "tell me more\n",
      "[cyan]Bot[/]\n",
      "User intent: request more information\n",
      "Bot intent: provide more information\n",
      "Bot message: \"Initially, the company focused on developing 3D graphics processing technology for the PC gaming market. In 1999, NVIDIA released the GeForce 256, the world's first GPU, which was a major breakthrough for the gaming industry. The company continued to innovate in the GPU space, releasing new products and expanding into other markets such as professional graphics, mobile devices, and artificial intelligence.\"\n",
      "[cyan]User[/]\n",
      "thanks\n",
      "[cyan]Bot[/]\n",
      "User intent: express appreciation\n",
      "Bot intent: express appreciation and offer additional help\n",
      "Bot message: \"You're welcome. If you have any more questions or if there's anything else I can help you with, please don't hesitate to ask.\"\n",
      "[cyan]System[/]\n",
      "This is how the user talks:\n",
      "[cyan]User[/]\n",
      "How are you doing?\n",
      "[cyan]Bot[/]\n",
      "User intent: express greeting\n",
      "[cyan]User[/]\n",
      "Whats up!\n",
      "[cyan]Bot[/]\n",
      "User intent: express greeting\n",
      "[cyan]User[/]\n",
      "Hi\n",
      "[cyan]Bot[/]\n",
      "User intent: express greeting\n",
      "[cyan]User[/]\n",
      "Hello\n",
      "[cyan]Bot[/]\n",
      "User intent: express greeting\n",
      "[cyan]System[/]\n",
      "This is the current conversation between the user and the bot:\n",
      "[cyan]User[/]\n",
      "Hello there!\n",
      "[cyan]Bot[/]\n",
      "User intent: express greeting\n",
      "Bot intent: express greeting\n",
      "Bot message: \"Hello! How can I assist you today?\"\n",
      "[cyan]User[/]\n",
      "What can you do for me?\n",
      "[cyan]Bot[/]\n",
      "User intent: ask about capabilities\n",
      "Bot intent: respond about capabilities\n",
      "Bot message: \"As an AI assistant, I can help you with a wide range of tasks. This includes question answering on various topics, generating text for various purposes and providing suggestions based on your preferences.\"\n",
      "[cyan]User[/]\n",
      "Hi Hello!\n",
      "User intent: express greeting\n",
      "Bot intent: respond to greeting\n",
      "Bot message: \"Hi there! It's great to see your enthusiasm! How can I help you today?\"\n"
     ]
    }
   ],
   "source": [
    "info = rails.explain()\n",
    "print(info.colang_history)\n",
    "info.print_llm_calls_summary()\n",
    "print(info.llm_calls[0].prompt)\n",
    "print(info.llm_calls[0].completion)"
   ]
  },
  {
   "cell_type": "code",
   "execution_count": 32,
   "id": "d7009f0bb665fb08",
   "metadata": {
    "ExecuteTime": {
     "end_time": "2024-10-28T05:26:07.165406Z",
     "start_time": "2024-10-28T05:26:07.162502Z"
    }
   },
   "outputs": [
    {
     "name": "stdout",
     "output_type": "stream",
     "text": [
      "\n",
      "[cyan]System[/]\n",
      "Below is a conversation between a helpful AI assistant and a user. The bot is designed to generate human-like text based on the input that it receives. The bot is talkative and provides lots of specific details. If the bot does not know the answer to a question, it truthfully says it does not know.\n",
      "[cyan]System[/]\n",
      "This is how a conversation between a user and the bot can go:\n",
      "[cyan]User[/]\n",
      "Hello there!\n",
      "[cyan]Bot[/]\n",
      "User intent: express greeting\n",
      "Bot intent: express greeting\n",
      "Bot message: \"Hello! How can I assist you today?\"\n",
      "[cyan]User[/]\n",
      "What can you do for me?\n",
      "[cyan]Bot[/]\n",
      "User intent: ask about capabilities\n",
      "Bot intent: respond about capabilities\n",
      "Bot message: \"As an AI assistant, I can help you with a wide range of tasks. This includes question answering on various topics, generating text for various purposes and providing suggestions based on your preferences.\"\n",
      "[cyan]User[/]\n",
      "Tell me a bit about the history of NVIDIA.\n",
      "[cyan]Bot[/]\n",
      "User intent: ask general question\n",
      "Bot intent: response for general question\n",
      "Bot message: \"NVIDIA is a technology company that specializes in designing and manufacturing graphics processing units (GPUs) and other computer hardware. The company was founded in 1993 by Jen-Hsun Huang, Chris Malachowsky, and Curtis Priem.\"\n",
      "[cyan]User[/]\n",
      "tell me more\n",
      "[cyan]Bot[/]\n",
      "User intent: request more information\n",
      "Bot intent: provide more information\n",
      "Bot message: \"Initially, the company focused on developing 3D graphics processing technology for the PC gaming market. In 1999, NVIDIA released the GeForce 256, the world's first GPU, which was a major breakthrough for the gaming industry. The company continued to innovate in the GPU space, releasing new products and expanding into other markets such as professional graphics, mobile devices, and artificial intelligence.\"\n",
      "[cyan]User[/]\n",
      "thanks\n",
      "[cyan]Bot[/]\n",
      "User intent: express appreciation\n",
      "Bot intent: express appreciation and offer additional help\n",
      "Bot message: \"You're welcome. If you have any more questions or if there's anything else I can help you with, please don't hesitate to ask.\"\n",
      "[cyan]System[/]\n",
      "This is how the user talks:\n",
      "[cyan]User[/]\n",
      "How are you doing?\n",
      "[cyan]Bot[/]\n",
      "User intent: express greeting\n",
      "[cyan]User[/]\n",
      "Whats up!\n",
      "[cyan]Bot[/]\n",
      "User intent: express greeting\n",
      "[cyan]User[/]\n",
      "Hi\n",
      "[cyan]Bot[/]\n",
      "User intent: express greeting\n",
      "[cyan]User[/]\n",
      "Hello\n",
      "[cyan]Bot[/]\n",
      "User intent: express greeting\n",
      "[cyan]System[/]\n",
      "This is the current conversation between the user and the bot:\n",
      "[cyan]User[/]\n",
      "Hello there!\n",
      "[cyan]Bot[/]\n",
      "User intent: express greeting\n",
      "Bot intent: express greeting\n",
      "Bot message: \"Hello! How can I assist you today?\"\n",
      "[cyan]User[/]\n",
      "What can you do for me?\n",
      "[cyan]Bot[/]\n",
      "User intent: ask about capabilities\n",
      "Bot intent: respond about capabilities\n",
      "Bot message: \"As an AI assistant, I can help you with a wide range of tasks. This includes question answering on various topics, generating text for various purposes and providing suggestions based on your preferences.\"\n",
      "[cyan]User[/]\n",
      "Hi Hello!\n"
     ]
    }
   ],
   "source": [
    "print(info.llm_calls[0].prompt)"
   ]
  },
  {
   "cell_type": "code",
   "execution_count": 33,
   "id": "2651c00967af4f86",
   "metadata": {
    "ExecuteTime": {
     "end_time": "2024-10-28T05:26:38.537889Z",
     "start_time": "2024-10-28T05:26:38.535080Z"
    }
   },
   "outputs": [
    {
     "name": "stdout",
     "output_type": "stream",
     "text": [
      "User intent: express greeting\n",
      "Bot intent: respond to greeting\n",
      "Bot message: \"Hi there! It's great to see your enthusiasm! How can I help you today?\"\n"
     ]
    }
   ],
   "source": [
    "print(info.llm_calls[0].completion)"
   ]
  },
  {
   "cell_type": "code",
   "execution_count": 49,
   "id": "f6200f128d85085c",
   "metadata": {
    "ExecuteTime": {
     "end_time": "2024-10-23T04:50:29.458783Z",
     "start_time": "2024-10-23T04:50:27.655339Z"
    }
   },
   "outputs": [
    {
     "name": "stdout",
     "output_type": "stream",
     "text": [
      "{'role': 'assistant', 'content': 'Hi, it is a sunny day out there!\\nHow are you doing?'}\n"
     ]
    }
   ],
   "source": [
    "config = RailsConfig.from_path(\"./nemo_guardrails_config/config_1\")\n",
    "rails = LLMRails(config)\n",
    "\n",
    "response = rails.generate(messages=[{\n",
    "    \"role\": \"user\",\n",
    "    \"content\": \"Hello!\"\n",
    "}])\n",
    "print(response)\n"
   ]
  },
  {
   "cell_type": "code",
   "execution_count": 46,
   "id": "8e70aa638684ee57",
   "metadata": {
    "ExecuteTime": {
     "end_time": "2024-10-23T04:47:02.706521Z",
     "start_time": "2024-10-23T04:46:57.813485Z"
    }
   },
   "outputs": [
    {
     "name": "stdout",
     "output_type": "stream",
     "text": [
      "{'role': 'assistant', 'content': \"The capital of France is Paris. It's known for its rich history, art, and culture, as well as iconic landmarks such as the Eiffel Tower, the Louvre Museum, and Notre-Dame Cathedral. If you’d like to know more about Paris or any specific aspect of it, feel free to ask!\"}\n"
     ]
    }
   ],
   "source": [
    "response = rails.generate(messages=[{\n",
    "    \"role\": \"user\",\n",
    "    \"content\": \"What is the capital of France?\"\n",
    "}])\n",
    "print(response)"
   ]
  },
  {
   "cell_type": "code",
   "execution_count": 50,
   "id": "1139dc04db2b7b30",
   "metadata": {
    "ExecuteTime": {
     "end_time": "2024-10-23T04:51:22.270882Z",
     "start_time": "2024-10-23T04:51:22.268293Z"
    }
   },
   "outputs": [
    {
     "name": "stdout",
     "output_type": "stream",
     "text": [
      "user \"Hello!\"\n",
      "  express greeting\n",
      "bot express greeting\n",
      "  \"Hi, it is a sunny day out there!\"\n",
      "bot ask how are you\n",
      "  \"How are you doing?\"\n",
      "\n"
     ]
    }
   ],
   "source": [
    "info = rails.explain()\n",
    "print(info.colang_history)"
   ]
  },
  {
   "cell_type": "code",
   "execution_count": 51,
   "id": "28c6991284188c91",
   "metadata": {
    "ExecuteTime": {
     "end_time": "2024-10-23T04:52:10.030837Z",
     "start_time": "2024-10-23T04:52:10.028413Z"
    }
   },
   "outputs": [
    {
     "name": "stdout",
     "output_type": "stream",
     "text": [
      "Summary: 1 LLM call(s) took 1.72 seconds and used 675 tokens.\n",
      "\n",
      "1. Task `generate_user_intent` took 1.72 seconds and used 675 tokens.\n",
      "\n"
     ]
    }
   ],
   "source": [
    "info.print_llm_calls_summary()"
   ]
  },
  {
   "cell_type": "code",
   "execution_count": 52,
   "id": "bc7321bf91dc65ae",
   "metadata": {
    "ExecuteTime": {
     "end_time": "2024-10-23T04:59:28.935162Z",
     "start_time": "2024-10-23T04:59:28.932664Z"
    }
   },
   "outputs": [
    {
     "name": "stdout",
     "output_type": "stream",
     "text": [
      "\n",
      "[cyan]System[/]\n",
      "Below is a conversation between a helpful AI assistant and a user. The bot is designed to generate human-like text based on the input that it receives. The bot is talkative and provides lots of specific details. If the bot does not know the answer to a question, it truthfully says it does not know.\n",
      "[cyan]System[/]\n",
      "This is how a conversation between a user and the bot can go:\n",
      "[cyan]User[/]\n",
      "Hello there!\n",
      "[cyan]Bot[/]\n",
      "User intent: express greeting\n",
      "Bot intent: express greeting\n",
      "Bot message: \"Hello! How can I assist you today?\"\n",
      "[cyan]User[/]\n",
      "What can you do for me?\n",
      "[cyan]Bot[/]\n",
      "User intent: ask about capabilities\n",
      "Bot intent: respond about capabilities\n",
      "Bot message: \"As an AI assistant, I can help you with a wide range of tasks. This includes question answering on various topics, generating text for various purposes and providing suggestions based on your preferences.\"\n",
      "[cyan]User[/]\n",
      "Tell me a bit about the history of NVIDIA.\n",
      "[cyan]Bot[/]\n",
      "User intent: ask general question\n",
      "Bot intent: response for general question\n",
      "Bot message: \"NVIDIA is a technology company that specializes in designing and manufacturing graphics processing units (GPUs) and other computer hardware. The company was founded in 1993 by Jen-Hsun Huang, Chris Malachowsky, and Curtis Priem.\"\n",
      "[cyan]User[/]\n",
      "tell me more\n",
      "[cyan]Bot[/]\n",
      "User intent: request more information\n",
      "Bot intent: provide more information\n",
      "Bot message: \"Initially, the company focused on developing 3D graphics processing technology for the PC gaming market. In 1999, NVIDIA released the GeForce 256, the world's first GPU, which was a major breakthrough for the gaming industry. The company continued to innovate in the GPU space, releasing new products and expanding into other markets such as professional graphics, mobile devices, and artificial intelligence.\"\n",
      "[cyan]User[/]\n",
      "thanks\n",
      "[cyan]Bot[/]\n",
      "User intent: express appreciation\n",
      "Bot intent: express appreciation and offer additional help\n",
      "Bot message: \"You're welcome. If you have any more questions or if there's anything else I can help you with, please don't hesitate to ask.\"\n",
      "[cyan]System[/]\n",
      "This is how the user talks:\n",
      "[cyan]User[/]\n",
      "How are you doing?\n",
      "[cyan]Bot[/]\n",
      "User intent: express greeting\n",
      "[cyan]User[/]\n",
      "Whats up!\n",
      "[cyan]Bot[/]\n",
      "User intent: express greeting\n",
      "[cyan]User[/]\n",
      "Hi\n",
      "[cyan]Bot[/]\n",
      "User intent: express greeting\n",
      "[cyan]User[/]\n",
      "Hello\n",
      "[cyan]Bot[/]\n",
      "User intent: express greeting\n",
      "[cyan]System[/]\n",
      "This is the current conversation between the user and the bot:\n",
      "[cyan]User[/]\n",
      "Hello there!\n",
      "[cyan]Bot[/]\n",
      "User intent: express greeting\n",
      "Bot intent: express greeting\n",
      "Bot message: \"Hello! How can I assist you today?\"\n",
      "[cyan]User[/]\n",
      "What can you do for me?\n",
      "[cyan]Bot[/]\n",
      "User intent: ask about capabilities\n",
      "Bot intent: respond about capabilities\n",
      "Bot message: \"As an AI assistant, I can help you with a wide range of tasks. This includes question answering on various topics, generating text for various purposes and providing suggestions based on your preferences.\"\n",
      "[cyan]User[/]\n",
      "Hello!\n"
     ]
    }
   ],
   "source": [
    "print(info.llm_calls[0].prompt)"
   ]
  },
  {
   "cell_type": "code",
   "execution_count": 53,
   "id": "666a0409e275490d",
   "metadata": {
    "ExecuteTime": {
     "end_time": "2024-10-23T05:00:14.870472Z",
     "start_time": "2024-10-23T05:00:14.868286Z"
    }
   },
   "outputs": [
    {
     "name": "stdout",
     "output_type": "stream",
     "text": [
      "User intent: express greeting\n",
      "Bot intent: express greeting\n",
      "Bot message: \"Hi there! It's great to see you again! How can I help you today?\"\n"
     ]
    }
   ],
   "source": [
    "print(info.llm_calls[0].completion)"
   ]
  },
  {
   "cell_type": "code",
   "execution_count": 54,
   "id": "159da15f1b385c03",
   "metadata": {
    "ExecuteTime": {
     "end_time": "2024-10-23T05:02:54.550030Z",
     "start_time": "2024-10-23T05:02:49.969529Z"
    }
   },
   "outputs": [
    {
     "name": "stdout",
     "output_type": "stream",
     "text": [
      "{'role': 'assistant', 'content': \"The capital of France is Paris. It's known for its rich history, iconic landmarks like the Eiffel Tower and the Louvre Museum, and vibrant culture. If you have any more questions about Paris or anything else, feel free to ask!\"}\n"
     ]
    }
   ],
   "source": [
    "response = rails.generate(messages=[{\n",
    "    \"role\": \"user\",\n",
    "    \"content\": \"What is the capital of France?\"\n",
    "}])\n",
    "print(response)"
   ]
  },
  {
   "cell_type": "code",
   "execution_count": 55,
   "id": "683ec03e2a718eb",
   "metadata": {
    "ExecuteTime": {
     "end_time": "2024-10-23T05:03:03.679140Z",
     "start_time": "2024-10-23T05:03:03.676652Z"
    }
   },
   "outputs": [
    {
     "name": "stdout",
     "output_type": "stream",
     "text": [
      "user \"What is the capital of France?\"\n",
      "  ask for factual information\n",
      "bot provide factual information\n",
      "  \"The capital of France is Paris. It's known for its rich history, iconic landmarks like the Eiffel Tower and the Louvre Museum, and vibrant culture. If you have any more questions about Paris or anything else, feel free to ask!\"\n",
      "\n"
     ]
    }
   ],
   "source": [
    "info = rails.explain()\n",
    "print(info.colang_history)"
   ]
  },
  {
   "cell_type": "code",
   "execution_count": 56,
   "id": "8b31fd2fcef5ad4b",
   "metadata": {
    "ExecuteTime": {
     "end_time": "2024-10-23T05:03:24.681730Z",
     "start_time": "2024-10-23T05:03:24.680012Z"
    }
   },
   "outputs": [
    {
     "name": "stdout",
     "output_type": "stream",
     "text": [
      "Summary: 3 LLM call(s) took 4.54 seconds and used 2203 tokens.\n",
      "\n",
      "1. Task `generate_user_intent` took 1.93 seconds and used 701 tokens.\n",
      "2. Task `generate_next_steps` took 1.36 seconds and used 683 tokens.\n",
      "3. Task `generate_bot_message` took 1.25 seconds and used 819 tokens.\n",
      "\n"
     ]
    }
   ],
   "source": [
    "info.print_llm_calls_summary()"
   ]
  },
  {
   "cell_type": "code",
   "execution_count": null,
   "id": "75d9806e3ed8f619",
   "metadata": {},
   "outputs": [],
   "source": []
  }
 ],
 "metadata": {
  "kernelspec": {
   "display_name": "Python 3",
   "language": "python",
   "name": "python3"
  },
  "language_info": {
   "codemirror_mode": {
    "name": "ipython",
    "version": 2
   },
   "file_extension": ".py",
   "mimetype": "text/x-python",
   "name": "python",
   "nbconvert_exporter": "python",
   "pygments_lexer": "ipython2",
   "version": "2.7.6"
  }
 },
 "nbformat": 4,
 "nbformat_minor": 5
}
