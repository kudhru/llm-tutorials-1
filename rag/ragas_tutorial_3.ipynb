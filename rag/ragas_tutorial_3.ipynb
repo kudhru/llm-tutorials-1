{
 "cells": [
  {
   "cell_type": "code",
   "execution_count": 28,
   "id": "38fffed58976537d",
   "metadata": {
    "ExecuteTime": {
     "end_time": "2024-10-21T05:12:49.103463Z",
     "start_time": "2024-10-21T05:12:49.098429Z"
    }
   },
   "outputs": [],
   "source": [
    "import os\n"
   ]
  },
  {
   "cell_type": "code",
   "execution_count": 29,
   "id": "f670ca92b8bab12b",
   "metadata": {
    "ExecuteTime": {
     "end_time": "2024-10-21T05:12:51.206609Z",
     "start_time": "2024-10-21T05:12:51.191443Z"
    }
   },
   "outputs": [],
   "source": [
    "from ragas.llms import LangchainLLMWrapper\n",
    "from langchain_openai import ChatOpenAI\n",
    "generator_llm = LangchainLLMWrapper(ChatOpenAI(model=\"gpt-4o\"))"
   ]
  },
  {
   "cell_type": "code",
   "execution_count": 30,
   "id": "initial_id",
   "metadata": {
    "ExecuteTime": {
     "end_time": "2024-10-21T05:13:01.768506Z",
     "start_time": "2024-10-21T05:12:55.426527Z"
    },
    "collapsed": true
   },
   "outputs": [
    {
     "data": {
      "text/plain": [
       "0.6666666666666666"
      ]
     },
     "execution_count": 30,
     "metadata": {},
     "output_type": "execute_result"
    }
   ],
   "source": [
    "from ragas.dataset_schema import  SingleTurnSample, MultiTurnSample, EvaluationDataset\n",
    "from ragas.messages import HumanMessage,AIMessage,ToolMessage,ToolCall\n",
    "from ragas.metrics import TopicAdherenceScore\n",
    "\n",
    "\n",
    "sample_input_4 = [\n",
    "HumanMessage(content=\"Can you provide me with details about Einstein's theory of relativity?\"),\n",
    "AIMessage(content=\"Sure, let me retrieve the relevant information for you.\", tool_calls=[\n",
    "    ToolCall(name=\"document_search\", args={\"query\": \"Einstein's theory of relativity\"})\n",
    "]),\n",
    "ToolMessage(content=\"Found relevant documents: 1. Relativity: The Special and the General Theory, 2. General Theory of Relativity by A. Einstein.\"),\n",
    "AIMessage(content=\"I found some documents on Einstein's theory of relativity. Which one would you like to know more about: 'Relativity: The Special and the General Theory' or 'General Theory of Relativity by A. Einstein'?\"),\n",
    "HumanMessage(content=\"Tell me about the 'General Theory of Relativity'.\"),\n",
    "AIMessage(content=\"Got it! Let me fetch more details from 'General Theory of Relativity by A. Einstein'.\", tool_calls=[\n",
    "    ToolCall(name=\"document_retrieve\", args={\"document\": \"General Theory of Relativity by A. Einstein\"})\n",
    "]),\n",
    "ToolMessage(content=\"The document discusses how gravity affects the fabric of spacetime, describing the relationship between mass and spacetime curvature.\"),\n",
    "AIMessage(content=\"The 'General Theory of Relativity' explains how gravity affects the fabric of spacetime and the relationship between mass and spacetime curvature. Would you like more details or a specific explanation?\"),\n",
    "HumanMessage(content=\"No, that's perfect. By the way, do you know any good recipes for a chocolate cake?\"),\n",
    "AIMessage(content=\"Sure! Let me find a simple and delicious recipe for a chocolate cake.\", tool_calls=[\n",
    "    ToolCall(name=\"recipe_search\", args={\"query\": \"chocolate cake recipe\"})\n",
    "]),\n",
    "ToolMessage(content=\"Here’s a popular recipe for a chocolate cake: Ingredients include flour, sugar, cocoa powder, eggs, milk, and butter. Instructions: Mix dry ingredients, add wet ingredients, and bake at 350°F for 30-35 minutes.\"),\n",
    "AIMessage(content=\"I found a great recipe for chocolate cake! Would you like the full details, or is that summary enough?\")\n",
    "]\n",
    "\n",
    "\n",
    "sample = MultiTurnSample(user_input=sample_input_4, reference_topics=[\"science\"])\n",
    "scorer = TopicAdherenceScore(mode=\"precision\")\n",
    "scorer.llm = generator_llm\n",
    "await scorer.multi_turn_ascore(sample)"
   ]
  },
  {
   "cell_type": "code",
   "execution_count": 33,
   "id": "200c452dca4530d2",
   "metadata": {
    "ExecuteTime": {
     "end_time": "2024-10-21T05:18:00.881063Z",
     "start_time": "2024-10-21T05:18:00.876669Z"
    }
   },
   "outputs": [
    {
     "data": {
      "text/plain": [
       "0.0"
      ]
     },
     "execution_count": 33,
     "metadata": {},
     "output_type": "execute_result"
    }
   ],
   "source": [
    "from ragas.dataset_schema import  MultiTurnSample\n",
    "from ragas.messages import HumanMessage,AIMessage,ToolMessage,ToolCall\n",
    "from ragas.metrics import ToolCallAccuracy\n",
    "\n",
    "\n",
    "sample = [\n",
    "    HumanMessage(content=\"What's the weather like in New York right now?\"),\n",
    "    AIMessage(content=\"The current temperature in New York is 75°F and it's partly cloudy.\", tool_calls=[\n",
    "        ToolCall(name=\"weather_check\", args={\"location\": \"New York City\"})\n",
    "    ]),\n",
    "    HumanMessage(content=\"Can you translate that to Celsius?\"),\n",
    "    AIMessage(content=\"Let me convert that to Celsius for you.\", tool_calls=[\n",
    "        ToolCall(name=\"temperature_conversion\", args={\"temperature_fahrenheit\": 75})\n",
    "    ]),\n",
    "    ToolMessage(content=\"75°F is approximately 23.9°C.\"),\n",
    "    AIMessage(content=\"75°F is approximately 23.9°C.\")\n",
    "]\n",
    "\n",
    "sampl2 = MultiTurnSample(\n",
    "    user_input=sample,\n",
    "    reference_tool_calls=[\n",
    "        ToolCall(name=\"temperature_conversion\", args={\"temperature_fahrenheit\": 75}),\n",
    "        ToolCall(name=\"weather_check\", args={\"location\": \"New York City\"}),\n",
    "    ]\n",
    ")\n",
    "\n",
    "scorer = ToolCallAccuracy()\n",
    "scorer.llm = generator_llm\n",
    "await scorer.multi_turn_ascore(sampl2)"
   ]
  },
  {
   "cell_type": "code",
   "execution_count": 10,
   "id": "95edda64b95b036a",
   "metadata": {
    "ExecuteTime": {
     "end_time": "2024-10-21T02:33:08.719937Z",
     "start_time": "2024-10-21T02:33:08.681678Z"
    }
   },
   "outputs": [
    {
     "data": {
      "text/plain": [
       "0.8076923076923077"
      ]
     },
     "execution_count": 10,
     "metadata": {},
     "output_type": "execute_result"
    }
   ],
   "source": [
    "from ragas.metrics._string import NonLLMStringSimilarity\n",
    "from ragas.metrics._tool_call_accuracy import ToolCallAccuracy\n",
    "\n",
    "scorer = ToolCallAccuracy()\n",
    "scorer.arg_comparison_metric = NonLLMStringSimilarity()\n",
    "scorer.llm = generator_llm\n",
    "await scorer.multi_turn_ascore(sampl2)"
   ]
  },
  {
   "cell_type": "code",
   "execution_count": 22,
   "id": "ffad610e8018236a",
   "metadata": {
    "ExecuteTime": {
     "end_time": "2024-10-21T02:52:21.644863Z",
     "start_time": "2024-10-21T02:52:21.642178Z"
    }
   },
   "outputs": [],
   "source": [
    "from ragas.dataset_schema import  MultiTurnSample\n",
    "from ragas.messages import HumanMessage,AIMessage,ToolMessage,ToolCall\n",
    "from ragas.metrics import AgentGoalAccuracyWithReference, AgentGoalAccuracyWithoutReference\n",
    "import typing as t\n",
    "t.TYPE_CHECKING = True\n",
    "if t.TYPE_CHECKING:\n",
    "    from langchain_core.callbacks import Callbacks\n",
    "class AgentGoalAccuracyWithReference1(AgentGoalAccuracyWithReference):\n",
    "    async def _ascore(self, row: t.Dict, callbacks: Callbacks) -> float:\n",
    "        return await self._multi_turn_ascore(MultiTurnSample(**row), callbacks)"
   ]
  },
  {
   "cell_type": "code",
   "execution_count": 35,
   "id": "a09ede43629a4e94",
   "metadata": {
    "ExecuteTime": {
     "end_time": "2024-10-21T05:20:51.093223Z",
     "start_time": "2024-10-21T05:20:48.219272Z"
    }
   },
   "outputs": [
    {
     "data": {
      "text/plain": [
       "0.0"
      ]
     },
     "execution_count": 35,
     "metadata": {},
     "output_type": "execute_result"
    }
   ],
   "source": [
    "\n",
    "\n",
    "\n",
    "sample = MultiTurnSample(user_input=[\n",
    "    HumanMessage(content=\"Hey, book a table at the nearest best Chinese restaurant for 8:00pm\"),\n",
    "    AIMessage(content=\"Sure, let me find the best options for you.\", tool_calls=[\n",
    "        ToolCall(name=\"restaurant_search\", args={\"cuisine\": \"Chinese\", \"time\": \"8:00pm\"})\n",
    "    ]),\n",
    "    ToolMessage(content=\"Found a few options: 1. Golden Dragon, 2. Jade Palace\"),\n",
    "    AIMessage(content=\"I found some great options: Golden Dragon and Jade Palace. Which one would you prefer?\"),\n",
    "    HumanMessage(content=\"Let's go with Golden Dragon.\"),\n",
    "    AIMessage(content=\"Great choice! I'll book a table for 8:00pm at Golden Dragon.\", tool_calls=[\n",
    "        ToolCall(name=\"restaurant_book\", args={\"name\": \"Golden Dragon\", \"time\": \"8:00pm\"})\n",
    "    ]),\n",
    "    ToolMessage(content=\"Table not booked at Golden Dragon for 8:00pm.\"),\n",
    "    AIMessage(content=\"Your table at Golden Dragon is booked for 8:00pm. Enjoy your meal!\"),\n",
    "    HumanMessage(content=\"thanks\"),\n",
    "],\n",
    "    reference=\"Table booked at one of the chinese restaurants at 8 pm\")\n",
    "\n",
    "scorer = AgentGoalAccuracyWithReference1()\n",
    "scorer.llm = generator_llm\n",
    "await scorer._multi_turn_ascore(sample, None)"
   ]
  },
  {
   "cell_type": "code",
   "execution_count": null,
   "id": "e57b6166ca9555bf",
   "metadata": {},
   "outputs": [],
   "source": []
  }
 ],
 "metadata": {
  "kernelspec": {
   "display_name": "Python 3",
   "language": "python",
   "name": "python3"
  },
  "language_info": {
   "codemirror_mode": {
    "name": "ipython",
    "version": 2
   },
   "file_extension": ".py",
   "mimetype": "text/x-python",
   "name": "python",
   "nbconvert_exporter": "python",
   "pygments_lexer": "ipython2",
   "version": "2.7.6"
  }
 },
 "nbformat": 4,
 "nbformat_minor": 5
}
