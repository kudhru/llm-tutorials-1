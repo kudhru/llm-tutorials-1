{
 "cells": [
  {
   "cell_type": "code",
   "execution_count": 13,
   "id": "initial_id",
   "metadata": {
    "ExecuteTime": {
     "end_time": "2024-10-21T03:49:01.715541Z",
     "start_time": "2024-10-21T03:48:56.649136Z"
    },
    "collapsed": true
   },
   "outputs": [
    {
     "name": "stderr",
     "output_type": "stream",
     "text": [
      "Repo card metadata block was not found. Setting CardData to empty.\n"
     ]
    }
   ],
   "source": [
    "from datasets import load_dataset\n",
    "dataset = load_dataset(\"explodinggradients/amnesty_qa\",\"english_v3\")"
   ]
  },
  {
   "cell_type": "code",
   "execution_count": 2,
   "id": "a391cf131ccd3ebd",
   "metadata": {
    "ExecuteTime": {
     "end_time": "2024-10-20T17:18:05.051617Z",
     "start_time": "2024-10-20T17:18:03.546696Z"
    }
   },
   "outputs": [],
   "source": [
    "from ragas import EvaluationDataset\n",
    "\n",
    "eval_dataset = EvaluationDataset.from_hf_dataset(dataset[\"eval\"])"
   ]
  },
  {
   "cell_type": "code",
   "execution_count": 3,
   "id": "50e283b3122f6e3a",
   "metadata": {
    "ExecuteTime": {
     "end_time": "2024-10-20T17:18:26.554204Z",
     "start_time": "2024-10-20T17:18:26.552247Z"
    }
   },
   "outputs": [],
   "source": [
    "from ragas.metrics import LLMContextRecall, Faithfulness, FactualCorrectness, SemanticSimilarity\n",
    "from ragas import evaluate"
   ]
  },
  {
   "cell_type": "code",
   "execution_count": 4,
   "id": "d5869f2912ac7d27",
   "metadata": {
    "ExecuteTime": {
     "end_time": "2024-10-20T17:19:01.019788Z",
     "start_time": "2024-10-20T17:19:01.017141Z"
    }
   },
   "outputs": [],
   "source": [
    "import os\n"
   ]
  },
  {
   "cell_type": "code",
   "execution_count": 6,
   "id": "8740b4736f4a2d97",
   "metadata": {
    "ExecuteTime": {
     "end_time": "2024-10-20T17:19:39.957167Z",
     "start_time": "2024-10-20T17:19:39.941215Z"
    }
   },
   "outputs": [],
   "source": [
    "from ragas.llms import LangchainLLMWrapper\n",
    "from langchain_openai import ChatOpenAI\n",
    "evaluator_llm = LangchainLLMWrapper(ChatOpenAI(model=\"gpt-4o-mini\"))"
   ]
  },
  {
   "cell_type": "code",
   "execution_count": 7,
   "id": "12d963d050dae70d",
   "metadata": {
    "ExecuteTime": {
     "end_time": "2024-10-20T17:20:54.315899Z",
     "start_time": "2024-10-20T17:19:48.881528Z"
    }
   },
   "outputs": [
    {
     "data": {
      "application/vnd.jupyter.widget-view+json": {
       "model_id": "2e723899f5694df49b533e7fefec3ce1",
       "version_major": 2,
       "version_minor": 0
      },
      "text/plain": [
       "Evaluating:   0%|          | 0/60 [00:00<?, ?it/s]"
      ]
     },
     "metadata": {},
     "output_type": "display_data"
    },
    {
     "name": "stderr",
     "output_type": "stream",
     "text": [
      "/Users/kudhru/work/python-virtualenvs/llm-tutorials-venv/lib/python3.12/site-packages/ragas/metrics/_factual_correctness.py:261: RuntimeWarning: invalid value encountered in scalar divide\n",
      "  recall = true_positives / (true_positives + false_negatives)\n"
     ]
    }
   ],
   "source": [
    "metrics = [LLMContextRecall(), FactualCorrectness(), Faithfulness()]\n",
    "results = evaluate(dataset=eval_dataset, metrics=metrics, llm=evaluator_llm,)"
   ]
  },
  {
   "cell_type": "code",
   "execution_count": 9,
   "id": "488715e84ec4da10",
   "metadata": {
    "ExecuteTime": {
     "end_time": "2024-10-20T17:22:14.220250Z",
     "start_time": "2024-10-20T17:22:14.211936Z"
    }
   },
   "outputs": [
    {
     "data": {
      "text/html": [
       "<div>\n",
       "<style scoped>\n",
       "    .dataframe tbody tr th:only-of-type {\n",
       "        vertical-align: middle;\n",
       "    }\n",
       "\n",
       "    .dataframe tbody tr th {\n",
       "        vertical-align: top;\n",
       "    }\n",
       "\n",
       "    .dataframe thead th {\n",
       "        text-align: right;\n",
       "    }\n",
       "</style>\n",
       "<table border=\"1\" class=\"dataframe\">\n",
       "  <thead>\n",
       "    <tr style=\"text-align: right;\">\n",
       "      <th></th>\n",
       "      <th>context_recall</th>\n",
       "      <th>factual_correctness</th>\n",
       "      <th>faithfulness</th>\n",
       "    </tr>\n",
       "  </thead>\n",
       "  <tbody>\n",
       "    <tr>\n",
       "      <th>count</th>\n",
       "      <td>20.000000</td>\n",
       "      <td>19.000000</td>\n",
       "      <td>20.000000</td>\n",
       "    </tr>\n",
       "    <tr>\n",
       "      <th>mean</th>\n",
       "      <td>0.950000</td>\n",
       "      <td>0.426842</td>\n",
       "      <td>0.536315</td>\n",
       "    </tr>\n",
       "    <tr>\n",
       "      <th>std</th>\n",
       "      <td>0.223607</td>\n",
       "      <td>0.316369</td>\n",
       "      <td>0.359862</td>\n",
       "    </tr>\n",
       "    <tr>\n",
       "      <th>min</th>\n",
       "      <td>0.000000</td>\n",
       "      <td>0.000000</td>\n",
       "      <td>0.000000</td>\n",
       "    </tr>\n",
       "    <tr>\n",
       "      <th>25%</th>\n",
       "      <td>1.000000</td>\n",
       "      <td>0.195000</td>\n",
       "      <td>0.185897</td>\n",
       "    </tr>\n",
       "    <tr>\n",
       "      <th>50%</th>\n",
       "      <td>1.000000</td>\n",
       "      <td>0.330000</td>\n",
       "      <td>0.526374</td>\n",
       "    </tr>\n",
       "    <tr>\n",
       "      <th>75%</th>\n",
       "      <td>1.000000</td>\n",
       "      <td>0.705000</td>\n",
       "      <td>0.898944</td>\n",
       "    </tr>\n",
       "    <tr>\n",
       "      <th>max</th>\n",
       "      <td>1.000000</td>\n",
       "      <td>1.000000</td>\n",
       "      <td>1.000000</td>\n",
       "    </tr>\n",
       "  </tbody>\n",
       "</table>\n",
       "</div>"
      ],
      "text/plain": [
       "       context_recall  factual_correctness  faithfulness\n",
       "count       20.000000            19.000000     20.000000\n",
       "mean         0.950000             0.426842      0.536315\n",
       "std          0.223607             0.316369      0.359862\n",
       "min          0.000000             0.000000      0.000000\n",
       "25%          1.000000             0.195000      0.185897\n",
       "50%          1.000000             0.330000      0.526374\n",
       "75%          1.000000             0.705000      0.898944\n",
       "max          1.000000             1.000000      1.000000"
      ]
     },
     "execution_count": 9,
     "metadata": {},
     "output_type": "execute_result"
    }
   ],
   "source": [
    "df = results.to_pandas()\n",
    "df.describe()"
   ]
  },
  {
   "cell_type": "code",
   "execution_count": 12,
   "id": "ef2c45a8af8aa49",
   "metadata": {
    "ExecuteTime": {
     "end_time": "2024-10-20T17:34:52.824153Z",
     "start_time": "2024-10-20T17:34:52.820591Z"
    }
   },
   "outputs": [
    {
     "data": {
      "text/plain": [
       "user_input             Which companies are the main contributors to G...\n",
       "retrieved_contexts     [In recent years, there has been increasing pr...\n",
       "response               According to the Carbon Majors database, the m...\n",
       "reference              According to the Carbon Majors database, the m...\n",
       "context_recall                                                       1.0\n",
       "factual_correctness                                                 0.11\n",
       "faithfulness                                                        0.12\n",
       "Name: 1, dtype: object"
      ]
     },
     "execution_count": 12,
     "metadata": {},
     "output_type": "execute_result"
    }
   ],
   "source": [
    "df.iloc[1]"
   ]
  },
  {
   "cell_type": "code",
   "execution_count": null,
   "id": "87efb1117bb2d62e",
   "metadata": {},
   "outputs": [],
   "source": [
    "Which companies are the main contributors to GHG emissions and their role in global warming according to the Carbon Majors database?\n",
    "\n",
    "[In recent years, there has been increasing pressure on these major contributors to reduce their greenhouse gas emissions and transition to more sustainable practices. Many of these companies have made commitments to reduce their carbon footprint and invest in renewable energy sources. However, the role of these companies in global warming remains a contentious issue, with ongoing debates about their responsibility and accountability for the environmental damage caused by their operations., The Carbon Majors database identifies a small group of companies responsible for the majority of global greenhouse gas emissions. These companies include major oil and gas producers, as well as coal mining companies, whose activities have significantly contributed to climate change. The data from the Carbon Majors database highlights the disproportionate impact of these companies on the environment and the urgent need for action to address their emissions., - Fossil fuel companies, whether state or private, play a key role in the emissions that drive global warming.\\n- According to the Carbon Majors database, 100 existing fossil fuel companies (and eight that no longer exist) have produced almost a trillion tons of GHG emissions in 150 years.\\n- These 100 companies are responsible for 71% of all GHG emissions since 1988.\\n- In the Americas, the private companies responsible for the most emissions during this period, according to the database, are from the United States: ExxonMobil, Chevron, and Peabody.\\n- The largest emitter amongst state-owned companies in the Americas is Mexican company Pemex, followed by Venezuelan company Petróleos de Venezuela, S.A.\\n- Despite the fact that people with fewer resources, in particular from countries in the global South, do not make significant contributions to climate change, it is these people who are most affected by it.\\n- Approximately half of the global population lives in areas that are \"very vulnerable\" to climate change, and it is people with considerable development constraints who are most exposed.\\n- This disproportionately affects the human rights of people with fewer resources and greater risk in the context of climate change in the global South.\\n- Between 2010 and 2020, human mortality due to climate disasters was 15 times higher in vulnerable regions and populations.]\n",
    "\n",
    "\n",
    "According to the Carbon Majors database, the main contributors to greenhouse gas (GHG) emissions and their role in global warming are primarily fossil fuel companies. These companies extract, produce, and sell fossil fuels, which when burned release carbon dioxide (CO2) and other GHGs into the atmosphere. The top contributors include:\\n\\n1. Saudi Arabian Oil Company (Saudi Aramco): As the world's largest oil producer, Saudi Aramco is responsible for a significant portion of global GHG emissions. It is estimated to have contributed around 59.26 gigatons of CO2 equivalent (GtCO2e) between 1965 and 2017.\\n\\n2. Chevron Corporation: Chevron is one of the largest oil and gas companies globally and has contributed approximately 43.35 GtCO2e between 1965 and 2017.\\n\\n3. ExxonMobil Corporation: ExxonMobil is another major oil and gas company and has contributed around 41.90 GtCO2e between 1965 and 2017.\\n\\n4. BP plc: BP is a multinational oil and gas company and has contributed approximately 34.02 GtCO2e between 1965 and 2017.\\n\\n5. Royal Dutch Shell plc: Shell is one of the largest oil and gas companies globally and has contributed around 31.95 GtCO2e between 1965 and 2017.\\n\\n6. TotalEnergies SE: TotalEnergies is a French multinational oil and gas company and has contributed approximately 31.91 GtCO2e between 1965 and 2017.\\n\\n7. ConocoPhillips Company: ConocoPhillips is an American multinational energy corporation and has contributed around 20.67 GtCO2e between 1965 and 2017.\\n\\n8. PetroChina Company Limited: PetroChina is the largest oil and gas producer in China and has contributed approximately 17.26 GtCO2e between 1965 and 2017.\\n\\n9. Peabody Energy Corporation: Peabody Energy is the largest private-sector coal company globally and has contributed around 15.39 GtCO2e between 1965 and 2017.\\n\\n10. Glencore plc: Glencore is a multinational commodity trading and mining company and has contributed approximately 15.11 GtCO2e between 1965 and 2017.\\n\\nThese companies, along with others in the fossil\n",
    "\n",
    "According to the Carbon Majors database, the main contributors to GHG emissions and their role in global warming are fossil fuel companies. These companies, both state-owned and private, have produced almost a trillion tons of GHG emissions in 150 years. The database shows that 100 existing fossil fuel companies, along with eight that no longer exist, are responsible for 71% of all GHG emissions since 1988. In the Americas, the private companies that have contributed the most emissions are ExxonMobil, Chevron, and Peabody, all from the United States. Among state-owned companies in the Americas, the largest emitter is Mexican company Pemex, followed by Venezuelan company Petróleos de Venezuela, S.A. It is important to note that while people with fewer resources, particularly from countries in the global South, do not significantly contribute to climate change, they are the ones most affected by its impacts. Approximately half of the global population lives in areas that are \"very vulnerable\" to climate change, and it is people with limited development opportunities who face the greatest risks. This unequal impact disproportionately affects the human rights of those with fewer resources and greater vulnerability in the context of climate change in the global South. Additionally, between 2010 and 2020, human mortality due to climate disasters was 15 times higher in vulnerable regions and populations."
   ]
  }
 ],
 "metadata": {
  "kernelspec": {
   "display_name": "Python 3",
   "language": "python",
   "name": "python3"
  },
  "language_info": {
   "codemirror_mode": {
    "name": "ipython",
    "version": 2
   },
   "file_extension": ".py",
   "mimetype": "text/x-python",
   "name": "python",
   "nbconvert_exporter": "python",
   "pygments_lexer": "ipython2",
   "version": "2.7.6"
  }
 },
 "nbformat": 4,
 "nbformat_minor": 5
}
